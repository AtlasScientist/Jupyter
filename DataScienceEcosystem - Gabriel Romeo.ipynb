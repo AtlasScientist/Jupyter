{
 "cells": [
  {
   "cell_type": "markdown",
   "id": "c8f30d7e-f1ab-4232-b9c2-66896d8366e9",
   "metadata": {},
   "source": [
    "# Data Science Tools and Ecosystem"
   ]
  },
  {
   "cell_type": "markdown",
   "id": "89a732f7-facd-4b9b-83b5-ef4b9ebcfd43",
   "metadata": {},
   "source": [
    "In this notebook, Data Science Tools and Ecosystem are summarized."
   ]
  },
  {
   "cell_type": "markdown",
   "id": "eb896148-1a50-47f7-9b0e-a71b09550ed1",
   "metadata": {},
   "source": [
    "**Objectives:**\n",
    "* List popular languages for Data Science.\n",
    "* List commonly used libraries for Data Science.\n",
    "* List of Data Science Tools.\n",
    "* Examples of evaluating arithmetic expressions in Python."
   ]
  },
  {
   "cell_type": "markdown",
   "id": "7398e4fc-8e21-4fa8-ae60-2495a0b205c3",
   "metadata": {},
   "source": [
    "Some of the popular languages that Data Scientists use are:\r",
    "* Python.\n",
    "* R.\n",
    "* SQL.\n"
   ]
  },
  {
   "cell_type": "markdown",
   "id": "bb483d28-c525-434b-86ca-e80ceca8abd4",
   "metadata": {},
   "source": [
    "Some of the commonly used libraries used by Data Scientists include:\n",
    "* TensorFlow.\n",
    "* Numpy.\n",
    "* Scipy.\n",
    "* Pandas.\n",
    "* Matplotliblib."
   ]
  },
  {
   "cell_type": "markdown",
   "id": "a4178870-2458-44a5-b9cb-6acbb44dcfeb",
   "metadata": {},
   "source": [
    "| Data Science Tools |\n",
    "| ------ |\n",
    "| Jupyter Notebooks |\n",
    "| RStudio |\n",
    "| Zeppelin Notebooks |"
   ]
  },
  {
   "cell_type": "markdown",
   "id": "ae36ada7-f276-432e-81b1-d14c9e503a19",
   "metadata": {},
   "source": [
    "### Below are a few examples of evaluating arithmetic expressions in Python"
   ]
  },
  {
   "cell_type": "code",
   "execution_count": 8,
   "id": "e2a5e285-d9dc-45ba-895d-6335b794dfed",
   "metadata": {},
   "outputs": [
    {
     "data": {
      "text/plain": [
       "17"
      ]
     },
     "execution_count": 8,
     "metadata": {},
     "output_type": "execute_result"
    }
   ],
   "source": [
    "# This a simple arithmetic expression to mutiply then add integers\n",
    "(3*4)+5"
   ]
  },
  {
   "cell_type": "code",
   "execution_count": 10,
   "id": "2e2a5834-8b06-41f8-9b0d-099e36ffc926",
   "metadata": {},
   "outputs": [
    {
     "data": {
      "text/plain": [
       "3"
      ]
     },
     "execution_count": 10,
     "metadata": {},
     "output_type": "execute_result"
    }
   ],
   "source": [
    "# This will convert 200 minutes to hours by diving by 60\n",
    "200//60"
   ]
  },
  {
   "cell_type": "markdown",
   "id": "b18e23e8-2a21-4129-8223-6f09cbe3dcb1",
   "metadata": {},
   "source": [
    "# Author\n",
    "Gabriel Romeo"
   ]
  },
  {
   "cell_type": "code",
   "execution_count": null,
   "id": "dcb33c37-a064-442a-8c10-c327aff22e86",
   "metadata": {},
   "outputs": [],
   "source": []
  }
 ],
 "metadata": {
  "kernelspec": {
   "display_name": "Python 3 (ipykernel)",
   "language": "python",
   "name": "python3"
  },
  "language_info": {
   "codemirror_mode": {
    "name": "ipython",
    "version": 3
   },
   "file_extension": ".py",
   "mimetype": "text/x-python",
   "name": "python",
   "nbconvert_exporter": "python",
   "pygments_lexer": "ipython3",
   "version": "3.11.7"
  }
 },
 "nbformat": 4,
 "nbformat_minor": 5
}
